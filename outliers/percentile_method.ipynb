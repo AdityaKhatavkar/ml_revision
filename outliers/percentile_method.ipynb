{
 "cells": [
  {
   "cell_type": "markdown",
   "metadata": {},
   "source": [
    "# Percentile Method"
   ]
  },
  {
   "cell_type": "markdown",
   "metadata": {},
   "source": [
    "### We decide a threshold percentile for both the ends and values out of bound are treated as outliers. \n",
    "### Then we cap or trim that values "
   ]
  },
  {
   "cell_type": "markdown",
   "metadata": {},
   "source": [
    "## Winzarization :  Whenever we do capping with the help of percentile method, it is termed as winsarization"
   ]
  }
 ],
 "metadata": {
  "language_info": {
   "name": "python"
  }
 },
 "nbformat": 4,
 "nbformat_minor": 2
}
