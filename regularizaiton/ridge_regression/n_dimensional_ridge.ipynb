{
 "cells": [
  {
   "cell_type": "code",
   "execution_count": 5,
   "metadata": {},
   "outputs": [],
   "source": [
    "import numpy as np\n",
    "import pandas as pd\n",
    "import matplotlib.pyplot as plt\n",
    "from sklearn.model_selection import train_test_split\n",
    "from sklearn.linear_model import Ridge\n",
    "from sklearn.datasets import load_diabetes\n",
    "from sklearn.metrics import r2_score"
   ]
  },
  {
   "cell_type": "code",
   "execution_count": 3,
   "metadata": {},
   "outputs": [],
   "source": [
    "x, y = load_diabetes(return_X_y=True)"
   ]
  },
  {
   "cell_type": "code",
   "execution_count": 4,
   "metadata": {},
   "outputs": [],
   "source": [
    "x_train, x_test , y_train, y_test = train_test_split(x,y, random_state=4, test_size=0.2)"
   ]
  },
  {
   "cell_type": "markdown",
   "metadata": {},
   "source": [
    "### See the r2 score, when we used the prebuilt class"
   ]
  },
  {
   "cell_type": "code",
   "execution_count": 6,
   "metadata": {},
   "outputs": [
    {
     "name": "stdout",
     "output_type": "stream",
     "text": [
      "R2_score :  0.46250101620940054\n",
      "Coefficient :  [  34.52193216 -290.84083488  482.40182294  368.06787512 -852.44872146\n",
      "  501.59161364  180.11114888  270.76335311  759.73535605   37.49136425]\n",
      "Intercept :  151.10198519779553\n"
     ]
    }
   ],
   "source": [
    "reg1 = Ridge(alpha = 0.001, max_iter= 500, solver = \"cholesky\")\n",
    "reg1.fit(x_train, y_train)\n",
    "pred1 = reg1.predict(x_test)\n",
    "print(\"R2_score : \", r2_score(y_test, pred1) )\n",
    "print(\"Coefficient : \", reg1.coef_)\n",
    "print(\"Intercept : \", reg1.intercept_)\n"
   ]
  },
  {
   "cell_type": "markdown",
   "metadata": {},
   "source": [
    "### Creating our own Ridge regression class for N_dimensional data."
   ]
  },
  {
   "cell_type": "code",
   "execution_count": 8,
   "metadata": {},
   "outputs": [],
   "source": [
    "class my_ridge: \n",
    "\n",
    "    def __init__(self, epoch, alpha):\n",
    "        self.epoch = epoch\n",
    "        self.alpha = alpha\n",
    "        self.coef = None \n",
    "        self.intercept = None\n",
    "\n",
    "    def fit(self, x_train, y_train):\n",
    "        x_train = np.insert(x_train,0,1,axis=1)\n",
    "        w = np.linalg.inv( np.dot(x_train.T, x_train) + self.alpha*np.identity(x_train.shape[1])).dot(x_train.T).dot(y_train)\n",
    "        self.coef = w[0]\n",
    "        self.intercept = w[1:]\n",
    "\n",
    "    def predict(self, x_test):\n",
    "        return np.dot(self.coef, x_test) + self.intercept"
   ]
  },
  {
   "cell_type": "code",
   "execution_count": 10,
   "metadata": {},
   "outputs": [],
   "source": [
    "reg2 = my_ridge(500, 0.001)"
   ]
  },
  {
   "cell_type": "markdown",
   "metadata": {},
   "source": [
    "### Result of the class we created matches withe the results of sklearn implementation for Ridge regression for N_dimensions"
   ]
  },
  {
   "cell_type": "code",
   "execution_count": 11,
   "metadata": {},
   "outputs": [
    {
     "name": "stdout",
     "output_type": "stream",
     "text": [
      "R2_score :  0.46250101620940054\n",
      "Coefficient :  [  34.52193216 -290.84083488  482.40182294  368.06787512 -852.44872146\n",
      "  501.59161364  180.11114888  270.76335311  759.73535605   37.49136425]\n",
      "Intercept :  151.10198519779553\n"
     ]
    }
   ],
   "source": [
    "reg2 = Ridge(alpha = 0.001, max_iter= 500, solver = \"cholesky\")\n",
    "reg2.fit(x_train, y_train)\n",
    "pred2 = reg2.predict(x_test)\n",
    "print(\"R2_score : \", r2_score(y_test, pred2) )\n",
    "print(\"Coefficient : \", reg2.coef_)\n",
    "print(\"Intercept : \", reg2.intercept_)"
   ]
  },
  {
   "cell_type": "markdown",
   "metadata": {},
   "source": [
    "Thank You!"
   ]
  },
  {
   "cell_type": "markdown",
   "metadata": {},
   "source": []
  }
 ],
 "metadata": {
  "kernelspec": {
   "display_name": "venv",
   "language": "python",
   "name": "python3"
  },
  "language_info": {
   "codemirror_mode": {
    "name": "ipython",
    "version": 3
   },
   "file_extension": ".py",
   "mimetype": "text/x-python",
   "name": "python",
   "nbconvert_exporter": "python",
   "pygments_lexer": "ipython3",
   "version": "3.12.0"
  }
 },
 "nbformat": 4,
 "nbformat_minor": 2
}
